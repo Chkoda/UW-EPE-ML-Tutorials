{
 "cells": [
  {
   "cell_type": "markdown",
   "metadata": {},
   "source": [
    "# (1) Setting Up Environment"
   ]
  },
  {
   "cell_type": "markdown",
   "metadata": {},
   "source": [
    "Before following the machine learning tutorial, you are expected to have completed at least tutorials 0-11b from [the computing tutorials](https://github.com/uwepe-analysis/EPEtutorials/tree/master/notebooks) and done a cursory reading of tutorial 12 to understand the structure of a jet. This will give you a basic understanding of commonly used packages, the setup environment, andd the data we are working with."
   ]
  },
  {
   "cell_type": "markdown",
   "metadata": {},
   "source": [
    "### 1. Anaconda"
   ]
  },
  {
   "cell_type": "markdown",
   "metadata": {},
   "source": [
    "Download and install Anaconda environment manager [here](https://www.anaconda.com/products/individual)."
   ]
  },
  {
   "cell_type": "markdown",
   "metadata": {},
   "source": [
    "### 2. Create Environment"
   ]
  },
  {
   "cell_type": "markdown",
   "metadata": {},
   "source": [
    "In environments tab, select base and press 'Open Terminal' and enter the following line:\n",
    "\n",
    "```python\n",
    "conda create --name=EPE_ML_TF2 python=3.6 numpy pandas scipy scikit-learn matplotlib h5py jupyter keras tensorflow=2.2\n",
    "```"
   ]
  },
  {
   "cell_type": "markdown",
   "metadata": {},
   "source": [
    "Most of your work will be done through jupyter notebooks which can be started through the anaconda navigator in the same menu as 'Open terminal' or by opening the terminal and typing ```jupyter-notebook```\n",
    "\n",
    "The goal of this tutorial is to teach you how to reproduce 2-layer and 4-layer fully connected Neural Networks in this [paper](https://arxiv.org/abs/1804.06913)."
   ]
  }
 ],
 "metadata": {
  "kernelspec": {
   "display_name": "Python 3",
   "language": "python",
   "name": "python3"
  },
  "language_info": {
   "codemirror_mode": {
    "name": "ipython",
    "version": 3
   },
   "file_extension": ".py",
   "mimetype": "text/x-python",
   "name": "python",
   "nbconvert_exporter": "python",
   "pygments_lexer": "ipython3",
   "version": "3.6.10"
  }
 },
 "nbformat": 4,
 "nbformat_minor": 4
}
