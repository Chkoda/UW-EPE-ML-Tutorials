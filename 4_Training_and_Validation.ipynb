{
 "cells": [
  {
   "cell_type": "markdown",
   "metadata": {},
   "source": [
    "# (4) Training and Validation"
   ]
  },
  {
   "cell_type": "markdown",
   "metadata": {},
   "source": [
    "One of the key factors which limits the use of neural networks in many industrial applications has been the difficulty of demonstrating that a trained network will continue to generate reliable outputs once it is in routine use. [Source](https://www.microsoft.com/en-us/research/wp-content/uploads/2016/05/Bishop-Novelty-Detection_IEE-Proceedings-94b.pdf).\n",
    "\n",
    "That is the motivation for the [validation and test splits](https://towardsdatascience.com/train-validation-and-test-sets-72cb40cba9e7) mentioned in the (2) Data Structure tutorial. In that tutorial we seperated training and testing data, and later during the training we will specify the validation fraction. In order to train our model, first we need to extract the training and testing data and build the model."
   ]
  },
  {
   "cell_type": "code",
   "execution_count": 1,
   "metadata": {},
   "outputs": [
    {
     "name": "stderr",
     "output_type": "stream",
     "text": [
      "Using TensorFlow backend.\n"
     ]
    }
   ],
   "source": [
    "import tensorflow as tf\n",
    "import keras\n",
    "from keras.layers import Input, Dense\n",
    "from keras.models import Model\n",
    "from keras.optimizers import Adam\n",
    "from sklearn.model_selection import train_test_split\n",
    "import os\n",
    "import h5py\n",
    "import pandas as pd"
   ]
  },
  {
   "cell_type": "code",
   "execution_count": 2,
   "metadata": {},
   "outputs": [],
   "source": [
    "Inputs = Input(shape=(10,))\n",
    "x = Dense(32, activation='relu', kernel_initializer='lecun_uniform', name='fc1_relu')(Inputs)\n",
    "predictions = Dense(1, activation='sigmoid', kernel_initializer='lecun_uniform', name = 'output_sigmoid')(x)\n",
    "model = Model(inputs=Inputs, outputs=predictions)"
   ]
  },
  {
   "cell_type": "code",
   "execution_count": 3,
   "metadata": {},
   "outputs": [],
   "source": [
    "f = h5py.File('C:\\\\Users\\\\alexc\\\\OneDrive\\\\Projects\\\\Deep-Learning-Model-Evaluation\\\\processed-pythia82-lhc13-all-pt1-50k-r1_h022_e0175_t220_nonu_truth.z', 'r')\n",
    "treeArray = f['t_allpar_new'][()]\n",
    "\n",
    "features = ['j_zlogz', 'j_c1_b0_mmdt', 'j_c1_b1_mmdt', 'j_c2_b1_mmdt', 'j_d2_b1_mmdt', 'j_d2_a1_b1_mmdt',\n",
    "            'j_m2_b1_mmdt', 'j_n2_b1_mmdt', 'j_mass_mmdt', 'j_multiplicity']\n",
    "labels = ['j_t']\n",
    "\n",
    "features_labels_df = pd.DataFrame(treeArray,columns=list(set(features+labels)))\n",
    "features_labels_df = features_labels_df.drop_duplicates()\n",
    "\n",
    "features_val = features_labels_df[features].values #Convert to numpy array\n",
    "labels_val = features_labels_df[labels].values"
   ]
  },
  {
   "cell_type": "code",
   "execution_count": 4,
   "metadata": {},
   "outputs": [],
   "source": [
    "X_train, X_test, y_train, y_test = train_test_split(features_val, labels_val, test_size=0.2, random_state=42)"
   ]
  },
  {
   "cell_type": "markdown",
   "metadata": {},
   "source": [
    "## Training"
   ]
  },
  {
   "cell_type": "markdown",
   "metadata": {},
   "source": [
    "The [loss function](https://machinelearningmastery.com/loss-and-loss-functions-for-training-deep-learning-neural-networks/) essentially represents the error calculated from predicted and true values; in practice, this function be hard to determine.\n",
    "\n",
    "Binary cross-entropy is the standard loss function for binary classification problems. It is used when the target values are eitiher {0,1} and only one target is possible at a time. Mathematically, it is the preferred loss function under the inference framework of maximum likelihood. It is the loss function to be evaluated first and only changed if you have a good reason.\n",
    "\n",
    "An optimizer is the function which updates the weight parameters to minimize the loss function. The loss function represents the surface, and the optimizer is the method to reach the lowest point of that surface. Here is an article about different kinds of [optimizers](https://medium.com/datadriveninvestor/overview-of-different-optimizers-for-neural-networks-e0ed119440c3). The [learning rate](https://towardsdatascience.com/understanding-learning-rates-and-how-it-improves-performance-in-deep-learning-d0d4059c1c10) affects the magnitude of change between each training example, or how 'far' to descend the loss gradient. It is generally a very small number, and there are callback methods to adjust the learning rate dynamically.\n",
    "\n",
    "In this model, we will be using Adam because it is a generally effective optimizer."
   ]
  },
  {
   "cell_type": "code",
   "execution_count": 5,
   "metadata": {},
   "outputs": [],
   "source": [
    "adam = Adam(lr=0.0001)\n",
    "model.compile(optimizer=adam, loss='binary_crossentropy', metrics=['accuracy'])"
   ]
  },
  {
   "cell_type": "markdown",
   "metadata": {},
   "source": [
    "Next, we will use the [model.fit()](https://www.tensorflow.org/api_docs/python/tf/keras/Model#fit) function to train the network. Read about the parameters in the documentation.\n",
    "\n",
    "Batch_size represents the size of data bins used to train the network, since with large volumes of data it cannot fit all onto your RAM at one time. An epoch is one iteration through the entire shuffled data set; with additional epochs, the data is reshuffled and used to train the network again. Callbacks are used in between epochs, and can be highly customized.\n",
    "\n",
    "The validation split represents the fraction of the remaining training data to use as a validation set during the training. That is important so that the loss or error of the network will be computed on data which it hasn't trained on, leading to more robust solutions. Then towards the end, the network is again evaluated on the _test_ data set that we split off in the beginning, which the network has never seen before."
   ]
  },
  {
   "cell_type": "code",
   "execution_count": 6,
   "metadata": {
    "scrolled": false
   },
   "outputs": [
    {
     "name": "stdout",
     "output_type": "stream",
     "text": [
      "Train on 592083 samples, validate on 197361 samples\n",
      "Epoch 1/100\n",
      "592083/592083 [==============================] - 1s 2us/step - loss: 0.8747 - accuracy: 0.7449 - val_loss: 0.4736 - val_accuracy: 0.7780\n",
      "Epoch 2/100\n",
      "592083/592083 [==============================] - 1s 2us/step - loss: 0.4216 - accuracy: 0.8058 - val_loss: 0.4004 - val_accuracy: 0.8199\n",
      "Epoch 3/100\n",
      "592083/592083 [==============================] - 1s 2us/step - loss: 0.3877 - accuracy: 0.8347 - val_loss: 0.3789 - val_accuracy: 0.8423\n",
      "Epoch 4/100\n",
      "592083/592083 [==============================] - 1s 2us/step - loss: 0.3713 - accuracy: 0.8559 - val_loss: 0.3660 - val_accuracy: 0.8648\n",
      "Epoch 5/100\n",
      "592083/592083 [==============================] - 1s 2us/step - loss: 0.3614 - accuracy: 0.8676 - val_loss: 0.3580 - val_accuracy: 0.8748\n",
      "Epoch 6/100\n",
      "592083/592083 [==============================] - 1s 1us/step - loss: 0.3551 - accuracy: 0.8722 - val_loss: 0.3528 - val_accuracy: 0.8752\n",
      "Epoch 7/100\n",
      "592083/592083 [==============================] - 1s 1us/step - loss: 0.3511 - accuracy: 0.8741 - val_loss: 0.3494 - val_accuracy: 0.8766\n",
      "Epoch 8/100\n",
      "592083/592083 [==============================] - 1s 1us/step - loss: 0.3484 - accuracy: 0.8751 - val_loss: 0.3471 - val_accuracy: 0.8748\n",
      "Epoch 9/100\n",
      "592083/592083 [==============================] - 1s 1us/step - loss: 0.3462 - accuracy: 0.8760 - val_loss: 0.3450 - val_accuracy: 0.8758\n",
      "Epoch 10/100\n",
      "592083/592083 [==============================] - 1s 1us/step - loss: 0.3445 - accuracy: 0.8763 - val_loss: 0.3432 - val_accuracy: 0.8774\n",
      "Epoch 11/100\n",
      "592083/592083 [==============================] - 1s 1us/step - loss: 0.3429 - accuracy: 0.8766 - val_loss: 0.3417 - val_accuracy: 0.8775\n",
      "Epoch 12/100\n",
      "592083/592083 [==============================] - 1s 2us/step - loss: 0.3415 - accuracy: 0.8770 - val_loss: 0.3404 - val_accuracy: 0.8782\n",
      "Epoch 13/100\n",
      "592083/592083 [==============================] - 1s 2us/step - loss: 0.3403 - accuracy: 0.8773 - val_loss: 0.3392 - val_accuracy: 0.8781\n",
      "Epoch 14/100\n",
      "592083/592083 [==============================] - 1s 1us/step - loss: 0.3392 - accuracy: 0.8775 - val_loss: 0.3380 - val_accuracy: 0.8786\n",
      "Epoch 15/100\n",
      "592083/592083 [==============================] - 1s 1us/step - loss: 0.3380 - accuracy: 0.8778 - val_loss: 0.3372 - val_accuracy: 0.8772\n",
      "Epoch 16/100\n",
      "592083/592083 [==============================] - 1s 1us/step - loss: 0.3370 - accuracy: 0.8778 - val_loss: 0.3363 - val_accuracy: 0.8807\n",
      "Epoch 17/100\n",
      "592083/592083 [==============================] - 1s 1us/step - loss: 0.3359 - accuracy: 0.8782 - val_loss: 0.3350 - val_accuracy: 0.8793\n",
      "Epoch 18/100\n",
      "592083/592083 [==============================] - 1s 1us/step - loss: 0.3350 - accuracy: 0.8784 - val_loss: 0.3345 - val_accuracy: 0.8811\n",
      "Epoch 19/100\n",
      "592083/592083 [==============================] - 1s 2us/step - loss: 0.3341 - accuracy: 0.8788 - val_loss: 0.3332 - val_accuracy: 0.8801\n",
      "Epoch 20/100\n",
      "592083/592083 [==============================] - 1s 2us/step - loss: 0.3331 - accuracy: 0.8787 - val_loss: 0.3323 - val_accuracy: 0.8805\n",
      "Epoch 21/100\n",
      "592083/592083 [==============================] - 1s 1us/step - loss: 0.3323 - accuracy: 0.8789 - val_loss: 0.3314 - val_accuracy: 0.8802\n",
      "Epoch 22/100\n",
      "592083/592083 [==============================] - 1s 1us/step - loss: 0.3314 - accuracy: 0.8791 - val_loss: 0.3306 - val_accuracy: 0.8807\n",
      "Epoch 23/100\n",
      "592083/592083 [==============================] - 1s 1us/step - loss: 0.3306 - accuracy: 0.8793 - val_loss: 0.3304 - val_accuracy: 0.8779\n",
      "Epoch 24/100\n",
      "592083/592083 [==============================] - 1s 1us/step - loss: 0.3298 - accuracy: 0.8795 - val_loss: 0.3290 - val_accuracy: 0.8797\n",
      "Epoch 25/100\n",
      "592083/592083 [==============================] - 1s 1us/step - loss: 0.3291 - accuracy: 0.8796 - val_loss: 0.3281 - val_accuracy: 0.8808\n",
      "Epoch 26/100\n",
      "592083/592083 [==============================] - 1s 1us/step - loss: 0.3282 - accuracy: 0.8797 - val_loss: 0.3274 - val_accuracy: 0.8812\n",
      "Epoch 27/100\n",
      "592083/592083 [==============================] - 1s 2us/step - loss: 0.3276 - accuracy: 0.8797 - val_loss: 0.3267 - val_accuracy: 0.8807\n",
      "Epoch 28/100\n",
      "592083/592083 [==============================] - 1s 2us/step - loss: 0.3268 - accuracy: 0.8799 - val_loss: 0.3261 - val_accuracy: 0.8804\n",
      "Epoch 29/100\n",
      "592083/592083 [==============================] - 1s 2us/step - loss: 0.3261 - accuracy: 0.8800 - val_loss: 0.3256 - val_accuracy: 0.8814\n",
      "Epoch 30/100\n",
      "592083/592083 [==============================] - 1s 2us/step - loss: 0.3254 - accuracy: 0.8800 - val_loss: 0.3247 - val_accuracy: 0.8805\n",
      "Epoch 31/100\n",
      "592083/592083 [==============================] - 1s 2us/step - loss: 0.3248 - accuracy: 0.8801 - val_loss: 0.3246 - val_accuracy: 0.8791\n",
      "Epoch 32/100\n",
      "592083/592083 [==============================] - 1s 2us/step - loss: 0.3242 - accuracy: 0.8803 - val_loss: 0.3239 - val_accuracy: 0.8792\n",
      "Epoch 33/100\n",
      "592083/592083 [==============================] - 1s 2us/step - loss: 0.3235 - accuracy: 0.8804 - val_loss: 0.3236 - val_accuracy: 0.8823\n",
      "Epoch 34/100\n",
      "592083/592083 [==============================] - 1s 2us/step - loss: 0.3230 - accuracy: 0.8804 - val_loss: 0.3223 - val_accuracy: 0.8813\n",
      "Epoch 35/100\n",
      "592083/592083 [==============================] - 1s 2us/step - loss: 0.3224 - accuracy: 0.8805 - val_loss: 0.3224 - val_accuracy: 0.8800\n",
      "Epoch 36/100\n",
      "592083/592083 [==============================] - 1s 2us/step - loss: 0.3219 - accuracy: 0.8805 - val_loss: 0.3215 - val_accuracy: 0.8807\n",
      "Epoch 37/100\n",
      "592083/592083 [==============================] - 1s 2us/step - loss: 0.3213 - accuracy: 0.8805 - val_loss: 0.3208 - val_accuracy: 0.8822\n",
      "Epoch 38/100\n",
      "592083/592083 [==============================] - 1s 2us/step - loss: 0.3209 - accuracy: 0.8806 - val_loss: 0.3216 - val_accuracy: 0.8787\n",
      "Epoch 39/100\n",
      "592083/592083 [==============================] - 1s 2us/step - loss: 0.3202 - accuracy: 0.8806 - val_loss: 0.3199 - val_accuracy: 0.8811\n",
      "Epoch 40/100\n",
      "592083/592083 [==============================] - 1s 2us/step - loss: 0.3198 - accuracy: 0.8808 - val_loss: 0.3201 - val_accuracy: 0.8829\n",
      "Epoch 41/100\n",
      "592083/592083 [==============================] - 1s 2us/step - loss: 0.3193 - accuracy: 0.8808 - val_loss: 0.3189 - val_accuracy: 0.8821\n",
      "Epoch 42/100\n",
      "592083/592083 [==============================] - 1s 2us/step - loss: 0.3188 - accuracy: 0.8811 - val_loss: 0.3191 - val_accuracy: 0.8795\n",
      "Epoch 43/100\n",
      "592083/592083 [==============================] - 1s 2us/step - loss: 0.3184 - accuracy: 0.8810 - val_loss: 0.3179 - val_accuracy: 0.8814\n",
      "Epoch 44/100\n",
      "592083/592083 [==============================] - 1s 2us/step - loss: 0.3179 - accuracy: 0.8811 - val_loss: 0.3179 - val_accuracy: 0.8801\n",
      "Epoch 45/100\n",
      "592083/592083 [==============================] - 1s 2us/step - loss: 0.3173 - accuracy: 0.8812 - val_loss: 0.3172 - val_accuracy: 0.8808\n",
      "Epoch 46/100\n",
      "592083/592083 [==============================] - 1s 2us/step - loss: 0.3160 - accuracy: 0.8813 - val_loss: 0.3130 - val_accuracy: 0.8819\n",
      "Epoch 47/100\n",
      "592083/592083 [==============================] - 1s 2us/step - loss: 0.3116 - accuracy: 0.8818 - val_loss: 0.3105 - val_accuracy: 0.8820\n",
      "Epoch 48/100\n",
      "592083/592083 [==============================] - 1s 2us/step - loss: 0.3096 - accuracy: 0.8821 - val_loss: 0.3087 - val_accuracy: 0.8824\n",
      "Epoch 49/100\n",
      "592083/592083 [==============================] - 1s 2us/step - loss: 0.3079 - accuracy: 0.8822 - val_loss: 0.3073 - val_accuracy: 0.8835\n",
      "Epoch 50/100\n",
      "592083/592083 [==============================] - 1s 2us/step - loss: 0.3063 - accuracy: 0.8823 - val_loss: 0.3056 - val_accuracy: 0.8830\n",
      "Epoch 51/100\n",
      "592083/592083 [==============================] - 1s 2us/step - loss: 0.3049 - accuracy: 0.8825 - val_loss: 0.3044 - val_accuracy: 0.8829\n",
      "Epoch 52/100\n",
      "592083/592083 [==============================] - 1s 2us/step - loss: 0.3036 - accuracy: 0.8826 - val_loss: 0.3035 - val_accuracy: 0.8820\n",
      "Epoch 53/100\n",
      "592083/592083 [==============================] - 1s 2us/step - loss: 0.3023 - accuracy: 0.8827 - val_loss: 0.3018 - val_accuracy: 0.8844\n",
      "Epoch 54/100\n",
      "592083/592083 [==============================] - 1s 2us/step - loss: 0.3011 - accuracy: 0.8829 - val_loss: 0.3005 - val_accuracy: 0.8839\n",
      "Epoch 55/100\n"
     ]
    },
    {
     "name": "stdout",
     "output_type": "stream",
     "text": [
      "592083/592083 [==============================] - 1s 2us/step - loss: 0.2999 - accuracy: 0.8831 - val_loss: 0.2994 - val_accuracy: 0.8839\n",
      "Epoch 56/100\n",
      "592083/592083 [==============================] - 1s 2us/step - loss: 0.2988 - accuracy: 0.8832 - val_loss: 0.2985 - val_accuracy: 0.8848\n",
      "Epoch 57/100\n",
      "592083/592083 [==============================] - 1s 2us/step - loss: 0.2977 - accuracy: 0.8835 - val_loss: 0.2971 - val_accuracy: 0.8847\n",
      "Epoch 58/100\n",
      "592083/592083 [==============================] - 1s 2us/step - loss: 0.2966 - accuracy: 0.8837 - val_loss: 0.2961 - val_accuracy: 0.8845\n",
      "Epoch 59/100\n",
      "592083/592083 [==============================] - 1s 2us/step - loss: 0.2955 - accuracy: 0.8839 - val_loss: 0.2953 - val_accuracy: 0.8844\n",
      "Epoch 60/100\n",
      "592083/592083 [==============================] - 1s 2us/step - loss: 0.2945 - accuracy: 0.8843 - val_loss: 0.2940 - val_accuracy: 0.8856\n",
      "Epoch 61/100\n",
      "592083/592083 [==============================] - 1s 2us/step - loss: 0.2936 - accuracy: 0.8845 - val_loss: 0.2931 - val_accuracy: 0.8855\n",
      "Epoch 62/100\n",
      "592083/592083 [==============================] - 1s 2us/step - loss: 0.2926 - accuracy: 0.8846 - val_loss: 0.2922 - val_accuracy: 0.8860\n",
      "Epoch 63/100\n",
      "592083/592083 [==============================] - 1s 2us/step - loss: 0.2917 - accuracy: 0.8851 - val_loss: 0.2914 - val_accuracy: 0.8860\n",
      "Epoch 64/100\n",
      "592083/592083 [==============================] - 1s 2us/step - loss: 0.2908 - accuracy: 0.8853 - val_loss: 0.2903 - val_accuracy: 0.8861\n",
      "Epoch 65/100\n",
      "592083/592083 [==============================] - 1s 2us/step - loss: 0.2899 - accuracy: 0.8854 - val_loss: 0.2896 - val_accuracy: 0.8871\n",
      "Epoch 66/100\n",
      "592083/592083 [==============================] - 1s 2us/step - loss: 0.2892 - accuracy: 0.8859 - val_loss: 0.2887 - val_accuracy: 0.8872\n",
      "Epoch 67/100\n",
      "592083/592083 [==============================] - 1s 2us/step - loss: 0.2883 - accuracy: 0.8862 - val_loss: 0.2879 - val_accuracy: 0.8872\n",
      "Epoch 68/100\n",
      "592083/592083 [==============================] - 1s 2us/step - loss: 0.2875 - accuracy: 0.8864 - val_loss: 0.2873 - val_accuracy: 0.8872\n",
      "Epoch 69/100\n",
      "592083/592083 [==============================] - 1s 2us/step - loss: 0.2868 - accuracy: 0.8866 - val_loss: 0.2864 - val_accuracy: 0.8882\n",
      "Epoch 70/100\n",
      "592083/592083 [==============================] - 1s 1us/step - loss: 0.2861 - accuracy: 0.8868 - val_loss: 0.2862 - val_accuracy: 0.8873\n",
      "Epoch 71/100\n",
      "592083/592083 [==============================] - 1s 2us/step - loss: 0.2855 - accuracy: 0.8871 - val_loss: 0.2850 - val_accuracy: 0.8895\n",
      "Epoch 72/100\n",
      "592083/592083 [==============================] - 1s 2us/step - loss: 0.2847 - accuracy: 0.8875 - val_loss: 0.2846 - val_accuracy: 0.8900\n",
      "Epoch 73/100\n",
      "592083/592083 [==============================] - 1s 2us/step - loss: 0.2840 - accuracy: 0.8878 - val_loss: 0.2840 - val_accuracy: 0.8904\n",
      "Epoch 74/100\n",
      "592083/592083 [==============================] - 1s 2us/step - loss: 0.2834 - accuracy: 0.8879 - val_loss: 0.2828 - val_accuracy: 0.8897\n",
      "Epoch 75/100\n",
      "592083/592083 [==============================] - 1s 2us/step - loss: 0.2827 - accuracy: 0.8882 - val_loss: 0.2823 - val_accuracy: 0.8893\n",
      "Epoch 76/100\n",
      "592083/592083 [==============================] - 1s 2us/step - loss: 0.2822 - accuracy: 0.8884 - val_loss: 0.2817 - val_accuracy: 0.8897\n",
      "Epoch 77/100\n",
      "592083/592083 [==============================] - 1s 2us/step - loss: 0.2816 - accuracy: 0.8888 - val_loss: 0.2811 - val_accuracy: 0.8909\n",
      "Epoch 78/100\n",
      "592083/592083 [==============================] - 1s 2us/step - loss: 0.2809 - accuracy: 0.8888 - val_loss: 0.2812 - val_accuracy: 0.8910\n",
      "Epoch 79/100\n",
      "592083/592083 [==============================] - 1s 2us/step - loss: 0.2804 - accuracy: 0.8891 - val_loss: 0.2801 - val_accuracy: 0.8901\n",
      "Epoch 80/100\n",
      "592083/592083 [==============================] - 1s 2us/step - loss: 0.2798 - accuracy: 0.8894 - val_loss: 0.2793 - val_accuracy: 0.8910\n",
      "Epoch 81/100\n",
      "592083/592083 [==============================] - 1s 2us/step - loss: 0.2793 - accuracy: 0.8896 - val_loss: 0.2790 - val_accuracy: 0.8918\n",
      "Epoch 82/100\n",
      "592083/592083 [==============================] - 1s 2us/step - loss: 0.2788 - accuracy: 0.8899 - val_loss: 0.2781 - val_accuracy: 0.8915\n",
      "Epoch 83/100\n",
      "592083/592083 [==============================] - 1s 2us/step - loss: 0.2783 - accuracy: 0.8900 - val_loss: 0.2778 - val_accuracy: 0.8924\n",
      "Epoch 84/100\n",
      "592083/592083 [==============================] - 1s 2us/step - loss: 0.2776 - accuracy: 0.8903 - val_loss: 0.2775 - val_accuracy: 0.8927\n",
      "Epoch 85/100\n",
      "592083/592083 [==============================] - 1s 2us/step - loss: 0.2772 - accuracy: 0.8906 - val_loss: 0.2768 - val_accuracy: 0.8925\n",
      "Epoch 86/100\n",
      "592083/592083 [==============================] - 1s 2us/step - loss: 0.2768 - accuracy: 0.8907 - val_loss: 0.2769 - val_accuracy: 0.8929\n",
      "Epoch 87/100\n",
      "592083/592083 [==============================] - 1s 2us/step - loss: 0.2763 - accuracy: 0.8911 - val_loss: 0.2758 - val_accuracy: 0.8926\n",
      "Epoch 88/100\n",
      "592083/592083 [==============================] - 1s 2us/step - loss: 0.2758 - accuracy: 0.8914 - val_loss: 0.2758 - val_accuracy: 0.8927\n",
      "Epoch 89/100\n",
      "592083/592083 [==============================] - 1s 2us/step - loss: 0.2754 - accuracy: 0.8916 - val_loss: 0.2750 - val_accuracy: 0.8930\n",
      "Epoch 90/100\n",
      "592083/592083 [==============================] - 1s 2us/step - loss: 0.2749 - accuracy: 0.8918 - val_loss: 0.2743 - val_accuracy: 0.8934\n",
      "Epoch 91/100\n",
      "592083/592083 [==============================] - 1s 2us/step - loss: 0.2744 - accuracy: 0.8921 - val_loss: 0.2738 - val_accuracy: 0.8935\n",
      "Epoch 92/100\n",
      "592083/592083 [==============================] - 1s 2us/step - loss: 0.2740 - accuracy: 0.8922 - val_loss: 0.2733 - val_accuracy: 0.8941\n",
      "Epoch 93/100\n",
      "592083/592083 [==============================] - 1s 2us/step - loss: 0.2736 - accuracy: 0.8925 - val_loss: 0.2730 - val_accuracy: 0.8946\n",
      "Epoch 94/100\n",
      "592083/592083 [==============================] - 1s 2us/step - loss: 0.2731 - accuracy: 0.8928 - val_loss: 0.2731 - val_accuracy: 0.8944\n",
      "Epoch 95/100\n",
      "592083/592083 [==============================] - 1s 2us/step - loss: 0.2727 - accuracy: 0.8928 - val_loss: 0.2724 - val_accuracy: 0.8945\n",
      "Epoch 96/100\n",
      "592083/592083 [==============================] - 1s 2us/step - loss: 0.2723 - accuracy: 0.8932 - val_loss: 0.2717 - val_accuracy: 0.8949\n",
      "Epoch 97/100\n",
      "592083/592083 [==============================] - 1s 2us/step - loss: 0.2719 - accuracy: 0.8934 - val_loss: 0.2712 - val_accuracy: 0.8954\n",
      "Epoch 98/100\n",
      "592083/592083 [==============================] - 1s 2us/step - loss: 0.2715 - accuracy: 0.8937 - val_loss: 0.2707 - val_accuracy: 0.8955\n",
      "Epoch 99/100\n",
      "592083/592083 [==============================] - 1s 2us/step - loss: 0.2711 - accuracy: 0.8939 - val_loss: 0.2705 - val_accuracy: 0.8952\n",
      "Epoch 100/100\n",
      "592083/592083 [==============================] - 1s 2us/step - loss: 0.2706 - accuracy: 0.8941 - val_loss: 0.2702 - val_accuracy: 0.8957\n"
     ]
    }
   ],
   "source": [
    "history = model.fit(X_train, y_train, batch_size = 1024, epochs = 100, \n",
    "                    validation_split = 0.25, shuffle = True, callbacks = None,\n",
    "                    use_multiprocessing=True, workers=4)"
   ]
  },
  {
   "cell_type": "markdown",
   "metadata": {},
   "source": [
    "The model is now trained! It took 100s on my intel-i7 CPU. It is possible for tensorflow to be optimized using a GPU, if you have an NVIDIA graphics card that is CUDA compatible. Feel free to enable this yourself if applicable, but for these tutorials and many smaller models a CPU will work at a reasonable enough pace.\n",
    "\n",
    "The output of the fit function is a history object, which contains the values of loss for the training data as well as the validation data, and whatever metrics specified for each epoch.\n",
    "\n",
    "To save the model, Tensorflow has very user friendly functions,"
   ]
  },
  {
   "cell_type": "code",
   "execution_count": 7,
   "metadata": {},
   "outputs": [],
   "source": [
    "model.save('two-layer') #Saves to local directory; model file 'two-layer' with no extension"
   ]
  },
  {
   "cell_type": "markdown",
   "metadata": {},
   "source": [
    "And it is just as easy to load the model. This is useful when the training takes a long time, so you only need to train it once. Both the save and load arguments can take different paths to the file, but here it is in the local directory."
   ]
  },
  {
   "cell_type": "code",
   "execution_count": 8,
   "metadata": {},
   "outputs": [],
   "source": [
    "loaded_model = keras.models.load_model('two-layer') #Loads from local directory"
   ]
  },
  {
   "cell_type": "code",
   "execution_count": 9,
   "metadata": {},
   "outputs": [
    {
     "name": "stdout",
     "output_type": "stream",
     "text": [
      "Model: \"model_1\"\n",
      "_________________________________________________________________\n",
      "Layer (type)                 Output Shape              Param #   \n",
      "=================================================================\n",
      "input_1 (InputLayer)         (None, 10)                0         \n",
      "_________________________________________________________________\n",
      "fc1_relu (Dense)             (None, 32)                352       \n",
      "_________________________________________________________________\n",
      "output_sigmoid (Dense)       (None, 1)                 33        \n",
      "=================================================================\n",
      "Total params: 385\n",
      "Trainable params: 385\n",
      "Non-trainable params: 0\n",
      "_________________________________________________________________\n"
     ]
    }
   ],
   "source": [
    "loaded_model.summary()"
   ]
  },
  {
   "cell_type": "markdown",
   "metadata": {},
   "source": [
    "## Validation"
   ]
  },
  {
   "cell_type": "markdown",
   "metadata": {},
   "source": [
    "To validate the robustness of the networks predictions and ensure that the network isn't overfit on our sample, we want to compare the loss on the training set versus the loss on the validation set. The plot comparing the two over each epoch is called the 'learning curve'."
   ]
  },
  {
   "cell_type": "code",
   "execution_count": 10,
   "metadata": {},
   "outputs": [],
   "source": [
    "import matplotlib.pyplot as plt"
   ]
  },
  {
   "cell_type": "code",
   "execution_count": 11,
   "metadata": {},
   "outputs": [],
   "source": [
    "def learningCurve(history):\n",
    "    plt.figure(figsize=(10,8))\n",
    "    plt.plot(history.history['loss'], linewidth=1)\n",
    "    plt.plot(history.history['val_loss'], linewidth=1)\n",
    "    plt.title('Model Loss over Epochs')\n",
    "    plt.ylabel('Loss')\n",
    "    plt.xlabel('Epoch')\n",
    "    plt.legend(['training sample loss','validation sample loss'])\n",
    "    #plt.savefig('Learning_curve.pdf')\n",
    "    plt.show()\n",
    "    plt.close()"
   ]
  },
  {
   "cell_type": "code",
   "execution_count": 12,
   "metadata": {},
   "outputs": [
    {
     "data": {
      "image/png": "[encoded data removed]",
      "text/plain": [
       "<Figure size 720x576 with 1 Axes>"
      ]
     },
     "metadata": {
      "needs_background": "light"
     },
     "output_type": "display_data"
    }
   ],
   "source": [
    "learningCurve(history)"
   ]
  },
  {
   "cell_type": "markdown",
   "metadata": {},
   "source": [
    "Divergence of the validation and training sample losses implies overfitting on your training data set. The above is quite a beautiful learning curve. You can see that it converges around 0.3, and every training epoch after around 10 epochs gives marginal improvement.\n",
    "\n",
    "So we've discovered that the model is not overfit, next we want to know how it performs. One very popular measure of _classifier_ performance is called the [receiver operating characteristic (ROC) curve](https://en.wikipedia.org/wiki/Receiver_operating_characteristic). It is a plot of the true positive rate (signal efficiency) versus the false positive rate (background efficiency). [Understanding the ROC curve](https://towardsdatascience.com/understanding-auc-roc-curve-68b2303cc9c5).\n",
    "\n",
    "We will use our *test* sample that we split in the very beginning, and use our network to predict the output and compare it with the true output."
   ]
  },
  {
   "cell_type": "code",
   "execution_count": 13,
   "metadata": {},
   "outputs": [],
   "source": [
    "labels_pred = model.predict(features_val)"
   ]
  },
  {
   "cell_type": "markdown",
   "metadata": {},
   "source": [
    "That was the _inference_ calculation. The network just predicted the labels based on the features provided. I am providing you with this method to plot the learning curve, as this is a machine learning tutorial not a plotting tutorial; that said, you should inspect the code and make sure you understand the use of roc_curve() and auc() and what exactly is being plotted."
   ]
  },
  {
   "cell_type": "code",
   "execution_count": 14,
   "metadata": {},
   "outputs": [],
   "source": [
    "def makeRoc(features_val, labels_val, labels, model, outputDir='', outputSuffix=''):\n",
    "    from sklearn.metrics import roc_curve, auc\n",
    "    labels_pred = model.predict(features_val)\n",
    "    df = pd.DataFrame()\n",
    "    fpr = {}\n",
    "    tpr = {}\n",
    "    auc1 = {}\n",
    "    plt.figure(figsize=(10,8))       \n",
    "    for i, label in enumerate(labels):\n",
    "        df[label] = labels_val[:,i]\n",
    "        df[label + '_pred'] = labels_pred[:,i]\n",
    "        fpr[label], tpr[label], threshold = roc_curve(df[label],df[label+'_pred'])\n",
    "        auc1[label] = auc(fpr[label], tpr[label])\n",
    "        plt.plot(fpr[label],tpr[label],label='%s tagger, AUC = %.1f%%'%(label.replace('j_',''),auc1[label]*100.))\n",
    "    plt.plot([0, 1], [0, 1], lw=1, color='black', linestyle='--')\n",
    "    #plt.semilogy()\n",
    "    plt.xlabel(\"Background Efficiency\")\n",
    "    plt.ylabel(\"Signal Efficiency\")\n",
    "    plt.xlim([-0.05, 1.05])\n",
    "    plt.ylim(0.001,1.05)\n",
    "    plt.grid(True)\n",
    "    plt.legend(loc='lower right')\n",
    "    plt.figtext(0.25, 0.90,'LSTM ROC Curve',fontweight='bold', wrap=True, horizontalalignment='right', fontsize=14)\n",
    "    #plt.figtext(0.35, 0.90,'preliminary', style='italic', wrap=True, horizontalalignment='center', fontsize=14) \n",
    "    #plt.savefig('%sROC_%s.pdf'%(outputDir, outputSuffix))\n",
    "    return labels_pred"
   ]
  },
  {
   "cell_type": "code",
   "execution_count": 15,
   "metadata": {},
   "outputs": [
    {
     "data": {
      "image/png": "[encoded data removed]",
      "text/plain": [
       "<Figure size 720x576 with 1 Axes>"
      ]
     },
     "metadata": {
      "needs_background": "light"
     },
     "output_type": "display_data"
    }
   ],
   "source": [
    "y_pred = makeRoc(X_test, y_test, labels, model, outputSuffix='two-layer')"
   ]
  },
  {
   "cell_type": "markdown",
   "metadata": {},
   "source": [
    "The above is the learning curve for the two-layer model. A perfect classifier would look like a line from coordinates (0,0) to (1,0) to (1,1); following the left and upper border of the plot. A classifier whose AUC is below 50% can be reversed in implementation to give greater than 50% AUC. The worst possible classifier would follow the black dotted line, with a minimum AUC of 50% and offer no greater descrimination than flipping a coin.\n",
    "\n",
    "After the exercise, this concludes the ML tutorial. You've downloaded and understood the structure of a sample LHC data set (pre-processed; the processing of the data is another problem of its own), built a model, trained it, and validated it through inspecting the learning curve and ROC curve. Congratulations!\n",
    "\n",
    "##### Exercise\n",
    "\n",
    "Train and plot the learning and ROC curves of the four-layer model. Use the Adam and binary-crossentropy losses with the same parameters. The training might take longer, so it is okay to stop it once it has more or less converged ( >= 20 epochs). Use the provided methods to do the plotting."
   ]
  },
  {
   "cell_type": "code",
   "execution_count": null,
   "metadata": {},
   "outputs": [],
   "source": []
  }
 ],
 "metadata": {
  "kernelspec": {
   "display_name": "Python 3",
   "language": "python",
   "name": "python3"
  },
  "language_info": {
   "codemirror_mode": {
    "name": "ipython",
    "version": 3
   },
   "file_extension": ".py",
   "mimetype": "text/x-python",
   "name": "python",
   "nbconvert_exporter": "python",
   "pygments_lexer": "ipython3",
   "version": "3.6.10"
  }
 },
 "nbformat": 4,
 "nbformat_minor": 4
}
